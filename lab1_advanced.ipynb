{
 "cells": [
  {
   "cell_type": "code",
   "execution_count": 1,
   "id": "6915ccbb",
   "metadata": {},
   "outputs": [],
   "source": [
    "import findspark\n",
    "import re\n",
    "findspark.init()"
   ]
  },
  {
   "cell_type": "code",
   "execution_count": 2,
   "id": "1707cc9f",
   "metadata": {},
   "outputs": [],
   "source": [
    "import pyspark\n",
    "from pyspark.sql import SparkSession"
   ]
  },
  {
   "cell_type": "code",
   "execution_count": 3,
   "id": "ec89342d",
   "metadata": {},
   "outputs": [],
   "source": [
    "spark = SparkSession.builder.getOrCreate()"
   ]
  },
  {
   "cell_type": "code",
   "execution_count": 4,
   "id": "ec2ef494",
   "metadata": {},
   "outputs": [],
   "source": [
    "from pyspark import SparkContext\n",
    "sc = SparkContext.getOrCreate();\n",
    "textFile = sc.textFile(\"wikipedia.dat\")"
   ]
  },
  {
   "cell_type": "code",
   "execution_count": 5,
   "id": "3830ca60",
   "metadata": {},
   "outputs": [],
   "source": [
    "#textFile.collect()"
   ]
  },
  {
   "cell_type": "code",
   "execution_count": 6,
   "id": "03964662",
   "metadata": {},
   "outputs": [],
   "source": [
    "programming_languages = r'(\\bJavaScript\\b|\\bJava\\b|PHP|Python|C#|C\\+\\+|Ruby|CSS|Objective-C|Perl|Scala|Haskell|MATLAB|Clojure|Groovy)'"
   ]
  },
  {
   "cell_type": "code",
   "execution_count": 7,
   "id": "18dfc400",
   "metadata": {},
   "outputs": [],
   "source": [
    "counts = textFile.flatMap(lambda line: re.findall(programming_languages, line)).map(lambda word: (word, 1)).reduceByKey(lambda a,b: a + b)"
   ]
  },
  {
   "cell_type": "code",
   "execution_count": 8,
   "id": "8998987a",
   "metadata": {},
   "outputs": [
    {
     "data": {
      "text/plain": [
       "[('C++', 3027),\n",
       " ('Ruby', 1234),\n",
       " ('Java', 6223),\n",
       " ('PHP', 1924),\n",
       " ('Haskell', 561),\n",
       " ('CSS', 3464),\n",
       " ('Perl', 1060),\n",
       " ('Scala', 525),\n",
       " ('C#', 2777),\n",
       " ('Objective-C', 642),\n",
       " ('JavaScript', 7360),\n",
       " ('MATLAB', 1011),\n",
       " ('Python', 2524),\n",
       " ('Groovy', 178),\n",
       " ('Clojure', 123)]"
      ]
     },
     "execution_count": 8,
     "metadata": {},
     "output_type": "execute_result"
    }
   ],
   "source": [
    "counts.collect()"
   ]
  },
  {
   "cell_type": "code",
   "execution_count": 9,
   "id": "6ac800fb",
   "metadata": {},
   "outputs": [],
   "source": [
    "title = r'<title>(.*?)</title>'\n"
   ]
  },
  {
   "cell_type": "code",
   "execution_count": 10,
   "id": "29e106e0",
   "metadata": {},
   "outputs": [],
   "source": [
    "def parse(line):\n",
    "    article = re.findall(title, line)[0]\n",
    "    uniq = list(set(re.findall(programming_languages, line)))\n",
    "    return map(lambda word: (word, article), uniq)"
   ]
  },
  {
   "cell_type": "code",
   "execution_count": 11,
   "id": "f11a8b89",
   "metadata": {},
   "outputs": [],
   "source": [
    "counts2 = textFile.flatMap(lambda line: parse(line)).countByKey()"
   ]
  },
  {
   "cell_type": "code",
   "execution_count": 12,
   "id": "0bc29fb1",
   "metadata": {},
   "outputs": [
    {
     "name": "stdout",
     "output_type": "stream",
     "text": [
      "defaultdict(<class 'int'>, {'CSS': 555, 'C++': 554, 'Ruby': 287, 'PHP': 452, 'JavaScript': 1738, 'MATLAB': 324, 'Java': 855, 'Python': 545, 'Haskell': 128, 'Perl': 300, 'Scala': 161, 'C#': 849, 'Objective-C': 112, 'Groovy': 55, 'Clojure': 60})\n"
     ]
    }
   ],
   "source": [
    "print(counts2)"
   ]
  },
  {
   "cell_type": "code",
   "execution_count": null,
   "id": "0e4edb93",
   "metadata": {},
   "outputs": [],
   "source": []
  }
 ],
 "metadata": {
  "kernelspec": {
   "display_name": "Python 3",
   "language": "python",
   "name": "python3"
  },
  "language_info": {
   "codemirror_mode": {
    "name": "ipython",
    "version": 3
   },
   "file_extension": ".py",
   "mimetype": "text/x-python",
   "name": "python",
   "nbconvert_exporter": "python",
   "pygments_lexer": "ipython3",
   "version": "3.8.8"
  }
 },
 "nbformat": 4,
 "nbformat_minor": 5
}
